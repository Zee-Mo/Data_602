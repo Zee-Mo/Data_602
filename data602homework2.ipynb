{
  "nbformat": 4,
  "nbformat_minor": 0,
  "metadata": {
    "colab": {
      "provenance": [],
      "authorship_tag": "ABX9TyO/4F8fwhUaPv7D1nmYoIkN",
      "include_colab_link": true
    },
    "kernelspec": {
      "name": "python3",
      "display_name": "Python 3"
    },
    "language_info": {
      "name": "python"
    }
  },
  "cells": [
    {
      "cell_type": "markdown",
      "metadata": {
        "id": "view-in-github",
        "colab_type": "text"
      },
      "source": [
        "<a href=\"https://colab.research.google.com/github/Zee-Mo/Data_602/blob/main/data602homework2.ipynb\" target=\"_parent\"><img src=\"https://colab.research.google.com/assets/colab-badge.svg\" alt=\"Open In Colab\"/></a>"
      ]
    },
    {
      "cell_type": "markdown",
      "source": [
        "Question 1\n",
        "\n"
      ],
      "metadata": {
        "id": "3Kmq4m4UXol6"
      }
    },
    {
      "cell_type": "code",
      "source": [
        "#What will the following code display?\n",
        "numbers = [1, 2, 3, 4, 5]\n",
        "#print(numbers[1:-5])\n",
        "#Can you debug and fix the output? The code should return the entire list\n",
        "print(numbers[0:5])"
      ],
      "metadata": {
        "colab": {
          "base_uri": "https://localhost:8080/"
        },
        "id": "s2roTMUVXs0C",
        "outputId": "b52226b2-fd49-4be6-8e54-6ad6dd4a3ed8"
      },
      "execution_count": null,
      "outputs": [
        {
          "output_type": "stream",
          "name": "stdout",
          "text": [
            "[1, 2, 3, 4, 5]\n"
          ]
        }
      ]
    },
    {
      "cell_type": "markdown",
      "source": [
        "Question 2.Q2. Design a program that asks the user to enter a store’s sales for each day of the week. The amounts should be stored in a list. Use a loop to calculate the total sales for the week and display the result."
      ],
      "metadata": {
        "id": "8J2d7FedXudr"
      }
    },
    {
      "cell_type": "code",
      "source": [
        "Sunday = int(input(\"Enter the store sales for Sunday: \"))\n",
        "Monday = int(input(\"Enter the store sales for Monday: \"))\n",
        "Tuesday = int(input(\"Enter the store sales for Tuesday: \"))\n",
        "Wednsday = int(input(\"Enter the store sales for Wednsday: \"))\n",
        "Thursday = int(input(\"Enter the store sales for Thursday: \"))\n",
        "Friday = int(input(\"Enter the store sales for Friday: \"))\n",
        "Saturday = int(input(\"Enter the store sales for Saturday: \"))\n",
        "\n",
        "def main():\n",
        "\n",
        "    total = 0.0\n",
        "    daily_sales = [0.0, 0.0, 0.0, 0.0, 0.0, 0.0, 0.0]\n",
        "    index = 0\n",
        "\n",
        "    days_of_the_week = ['Sunday', 'Monday', 'Tuesday', 'Wednsday', 'Thursday', 'Friday', 'Saturday']\n",
        "\n",
        "    for index in range(7):\n",
        "\n",
        "        print(\"Enter the amount of sales for\", days_of_the_week[index])\n",
        "        daily_sales[index] = float(input(\"Enter the sales here: \"))\n",
        "\n",
        "        total += daily_sales[index]\n",
        "\n",
        "    print(\"The total sales for the week is $\", format(total, '.2f'), sep = ' ')\n",
        "\n",
        "main()"
      ],
      "metadata": {
        "colab": {
          "base_uri": "https://localhost:8080/"
        },
        "id": "zQZFJ214X23E",
        "outputId": "410a9ccb-9f06-4ff8-9cf3-f38a9692f45c"
      },
      "execution_count": null,
      "outputs": [
        {
          "output_type": "stream",
          "name": "stdout",
          "text": [
            "Enter the store sales for Sunday: 10\n",
            "Enter the store sales for Monday: 10\n",
            "Enter the store sales for Tuesday: 10\n",
            "Enter the store sales for Wednsday: 10\n",
            "Enter the store sales for Thursday: 10\n",
            "Enter the store sales for Friday: 10\n",
            "Enter the store sales for Saturday: 100\n",
            "Enter the amount of sales for Sunday\n",
            "Enter the sales here: 0100\n",
            "Enter the amount of sales for Monday\n",
            "Enter the sales here: 10\n",
            "Enter the amount of sales for Tuesday\n",
            "Enter the sales here: 10\n",
            "Enter the amount of sales for Wednsday\n",
            "Enter the sales here: 0\n",
            "Enter the amount of sales for Thursday\n",
            "Enter the sales here: 10\n",
            "Enter the amount of sales for Friday\n",
            "Enter the sales here: 10\n",
            "Enter the amount of sales for Saturday\n",
            "Enter the sales here: 10\n",
            "The total sales for the week is $ 150.00\n"
          ]
        }
      ]
    },
    {
      "cell_type": "markdown",
      "source": [
        "Question 3\n",
        " Create a list with at least 5 places you’d like to travel to. Make sure the list isn’t in alphabetical order ● Print your list in its original order. ● Use the sort() function to arrange your list in order and reprint your list. ● Use the sort(reverse=True) and reprint your list."
      ],
      "metadata": {
        "id": "0lBUFiaUYEfO"
      }
    },
    {
      "cell_type": "code",
      "execution_count": null,
      "metadata": {
        "colab": {
          "base_uri": "https://localhost:8080/"
        },
        "id": "H60UkZS5XTgO",
        "outputId": "acc067bf-a845-4d18-ee89-dd10206cba2f"
      },
      "outputs": [
        {
          "output_type": "stream",
          "name": "stdout",
          "text": [
            "['Duabi', 'Portugal', 'Utah', 'Trinadad and Tobago', 'New Mexico']\n",
            "['Duabi', 'New Mexico', 'Portugal', 'Trinadad and Tobago', 'Utah']\n",
            "UtahTrinadad and TobagoPortugalNew MexicoDuabi\n"
          ]
        }
      ],
      "source": [
        "Travel_list = [\"Duabi\",\"Portugal\",\"Utah\",\"Trinadad and Tobago\",\"New Mexico\"]\n",
        "print(Travel_list)\n",
        "sorted(Travel_list)\n",
        "print(sorted(Travel_list))\n",
        "\n",
        "temp = list(Travel_list)\n",
        "temp.sort(reverse=True)\n",
        "res = \"\".join(temp)\n",
        "print(res)"
      ]
    },
    {
      "cell_type": "markdown",
      "source": [
        "Comment on Question 3\n"
      ],
      "metadata": {
        "id": "H4qgmsOzXSHy"
      }
    },
    {
      "cell_type": "markdown",
      "source": [
        "Question 4\n",
        "\n",
        "Write a program that creates a dictionary containing course numbers and the room\n",
        "numbers of the rooms where the courses meet. The program should also create a\n",
        "dictionary containing course numbers and the names of the instructors that teach each\n",
        "course. After that, the program should let the user enter a course number, then it should\n",
        "display the course’s room number, instructor, and meeting time."
      ],
      "metadata": {
        "id": "nGkR8e16XX_r"
      }
    },
    {
      "cell_type": "code",
      "source": [
        "Course_dict = {\n",
        "\"DATA101\" :  { \"room_num\":51_201 , \"instructor\": \"Andy Reid\", \"Meeting_time\": 900},\n",
        "\"STAT101\": { \"room_num\": 51_202, \"instructor\": \"Bill Belichick\", \"Meeting_time\": 1030},\n",
        "\"MATH205\": { \"room_num\": 52_202, \"instructor\": \"Mike Tomlin\", \"Meeting_time\":1300},\n",
        "\"COM203\": { \"room_num\": 32_301, \"instructor\":\"Dave Canales\", \"Meeting_time\": 1400},\n",
        "\"PHI301\":{ \"room_num\": 31_101, \"instructor\": \"Sean McDermott\", \"Meeting_time\" : 1400}\n",
        "\n",
        "}\n",
        "\n",
        "print(Course_dict[\"DATA101\"])\n",
        "#NOTE:Do not put class name with \"\"\n",
        "print(Course_dict[input(\"Put in course name\")])"
      ],
      "metadata": {
        "id": "fuyJJND5Xasg",
        "colab": {
          "base_uri": "https://localhost:8080/"
        },
        "outputId": "1d7b53b1-d47b-4c1f-e299-d884e5a7b343"
      },
      "execution_count": null,
      "outputs": [
        {
          "output_type": "stream",
          "name": "stdout",
          "text": [
            "{'room_num': 51201, 'instructor': 'Andy Reid', 'Meeting_time': 900}\n",
            "Put in course namePHI301\n",
            "{'room_num': 31101, 'instructor': 'Sean McDermott', 'Meeting_time': 1400}\n"
          ]
        }
      ]
    },
    {
      "cell_type": "markdown",
      "source": [
        "Write a program that keeps names and email addresses in a dictionary as\n",
        "key-value pairs. The program should then demonstrate the four options:\n",
        "● look up a person’s email address,\n",
        "● add a new name and email address,\n",
        "● change an existing email address, and\n",
        "● delete an existing name and email address."
      ],
      "metadata": {
        "id": "h-eAHfoRBz6C"
      }
    },
    {
      "cell_type": "code",
      "source": [
        "\n",
        "LittleBB_dict = { \"Frank\":\"Sfrank@cuny.ed\",\"Andy\":\"Aandy@cuny.edu\"}\n",
        "def search_dict1():\n",
        "  key = input(\"Enter a name\")\n",
        "  if key in LittleBB_dict:\n",
        "    print(\"Email found\",LittleBB_dict[key])\n",
        "  else:\n",
        "      print(\"Name not found\")\n",
        "\n",
        "def add_name():\n",
        "  key = input(\"Enter key: \")\n",
        "  value = input(\"Enter value \")\n",
        "  LittleBB_dict[key]= value\n",
        "  print(LittleBB_dict)\n",
        "  entry = input(\"Add another Y or N? \")\n",
        "  if entry.lower()== \"y\":\n",
        "    add_name()\n",
        "  else:\n",
        "    search_dict1()\n",
        "def remove_name():\n",
        "  del LittleBB_dict[input(\" Enter key\")]\n",
        "  print(LittleBB_dict)\n",
        "\n",
        "search_dict1()\n",
        "add_name()\n",
        "Remove()\n",
        "\n"
      ],
      "metadata": {
        "colab": {
          "base_uri": "https://localhost:8080/"
        },
        "id": "PCYh7Uz2B_Ju",
        "outputId": "44fd6410-dc0e-4986-b6eb-fc7250bbb2bd"
      },
      "execution_count": null,
      "outputs": [
        {
          "output_type": "stream",
          "name": "stdout",
          "text": [
            "Enter key: Love\n",
            "Enter value Glove@cuny.edu\n",
            "{'Frank': 'Sfrank@cuny.ed', 'Andy': 'Aandy@cuny.edu', 'Love': 'Glove@cuny.edu'}\n",
            "Add another Y or N? N\n",
            "Enter a nameJim\n",
            "Name not found\n"
          ]
        }
      ]
    },
    {
      "cell_type": "code",
      "source": [],
      "metadata": {
        "id": "LxiSII4rXrmP"
      },
      "execution_count": null,
      "outputs": []
    }
  ]
}