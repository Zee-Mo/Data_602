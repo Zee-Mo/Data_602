{
  "nbformat": 4,
  "nbformat_minor": 0,
  "metadata": {
    "colab": {
      "provenance": [],
      "authorship_tag": "ABX9TyNRniF3akWHT8UPl8vv7uS+",
      "include_colab_link": true
    },
    "kernelspec": {
      "name": "python3",
      "display_name": "Python 3"
    },
    "language_info": {
      "name": "python"
    }
  },
  "cells": [
    {
      "cell_type": "markdown",
      "metadata": {
        "id": "view-in-github",
        "colab_type": "text"
      },
      "source": [
        "<a href=\"https://colab.research.google.com/github/Zee-Mo/Data_602/blob/main/Assignment1Question1.ipynb\" target=\"_parent\"><img src=\"https://colab.research.google.com/assets/colab-badge.svg\" alt=\"Open In Colab\"/></a>"
      ]
    },
    {
      "cell_type": "code",
      "execution_count": 1,
      "metadata": {
        "colab": {
          "base_uri": "https://localhost:8080/"
        },
        "id": "nQa6DHeg4j1x",
        "outputId": "677ed99e-2087-4449-f2cf-e11a5a1f7fc8"
      },
      "outputs": [
        {
          "output_type": "stream",
          "name": "stdout",
          "text": [
            "Enter the first test score: 100\n",
            "Enter the second test score: 95\n",
            "Enter the third test score: 97\n",
            "The average score is 97.33333333333333\n",
            "Congratulations\n",
            "That is a great average\n"
          ]
        }
      ],
      "source": [
        "high_score = 95\n",
        "\n",
        "test1 = float(input('Enter the first test score: '))\n",
        "test2 = float(input('Enter the second test score: '))\n",
        "test3 = float(input('Enter the third test score: '))\n",
        "\n",
        "# Calculate the average of the three scores\n",
        "\n",
        "average = (test1 + test2 + test3) / 3.0\n",
        "#Print the average\n",
        "print('The average score is', average)\n",
        "\n",
        "#If the average is a high score,\n",
        "#congratulate the user\n",
        "if average >= high_score:\n",
        "  print('Congratulations')\n",
        "print('That is a great average')\n",
        "\n"
      ]
    },
    {
      "cell_type": "markdown",
      "source": [
        "# New Section"
      ],
      "metadata": {
        "id": "kBiiB8XU9Yv1"
      }
    }
  ]
}