{
  "nbformat": 4,
  "nbformat_minor": 0,
  "metadata": {
    "colab": {
      "provenance": [],
      "authorship_tag": "ABX9TyPT920nfV+Vc8kI6Qbhm/cr",
      "include_colab_link": true
    },
    "kernelspec": {
      "name": "python3",
      "display_name": "Python 3"
    },
    "language_info": {
      "name": "python"
    }
  },
  "cells": [
    {
      "cell_type": "markdown",
      "metadata": {
        "id": "view-in-github",
        "colab_type": "text"
      },
      "source": [
        "<a href=\"https://colab.research.google.com/github/Zee-Mo/Data_602/blob/main/Data602Assignment3Workingmodel.ipynb\" target=\"_parent\"><img src=\"https://colab.research.google.com/assets/colab-badge.svg\" alt=\"Open In Colab\"/></a>"
      ]
    },
    {
      "cell_type": "markdown",
      "source": [
        "Q1: Write a program that prompts the user for a meal: breakfast, lunch, or dinner. Then using if statements and else statements print the user a message recommending a meal. For example, if the meal was breakfast, you could say something like, “How about some bacon and eggs?”\n",
        "The user may enter something else in, but you only have to respond to breakfast, lunch, or dinner.\n"
      ],
      "metadata": {
        "id": "ByhALazfkwpZ"
      }
    },
    {
      "cell_type": "code",
      "execution_count": 8,
      "metadata": {
        "colab": {
          "base_uri": "https://localhost:8080/"
        },
        "id": "M5b-TkAWko5v",
        "outputId": "f5379fca-cc1e-4acc-b1b9-2071167fd17e"
      },
      "outputs": [
        {
          "output_type": "stream",
          "name": "stdout",
          "text": [
            "What type of meal? breakfast,lunch or dinner: lunch\n",
            "You should get a Greek sala with chicken or Halal Lamb over rice\n"
          ]
        }
      ],
      "source": [
        "def food_rec():\n",
        "  meal= input(\"What type of meal? breakfast,lunch or dinner: \")\n",
        "  #prompt user to enter meal\n",
        "  if meal== \"breakfast\":\n",
        "    print(\"You would like something light, go with white eggs and avocado toast.If you wold like something heavy go with eggs and bacon\")\n",
        "  elif meal== \"lunch\":\n",
        "   print(\"You should get a Greek salad with chicken or Halal Lamb over rice\")\n",
        "  elif meal == \"dinner\":\n",
        "    print(\"Would you like thai green curry and a cider or wet wings , fries and a glass of white?\")\n",
        "  else:\n",
        "    print(\"Sorry I am out of ideas\")\n",
        "food_rec()"
      ]
    },
    {
      "cell_type": "markdown",
      "source": [
        "Q2: The mailroom has asked you to design a simple payroll program that calculates a student employee’s gross pay, including any overtime wages. If any employee works over 20 hours in a week, the mailroom pays them 1.5 times their regular hourly pay rate for all hours over 20.\n",
        "You should take in the user’s input for the number of hours worked, and their rate of pay.\n"
      ],
      "metadata": {
        "id": "V_YjeqE4sci4"
      }
    },
    {
      "cell_type": "code",
      "source": [
        "def Find_the_pay()\n",
        "pay_rate = input(\"Please put in your pay rate\")\n",
        "HRS_worked= input(\"Please put the number of hours you worked\")\n",
        "if HRS_worked >= 20\n",
        "overtime_HRS=HRS_worked - 20\n",
        "base_pay=20 * pay_rate\n",
        "overtimerate = pay_rate * 1.5\n",
        "Overtime_pay = (base_pay) + (overtimerate*overtime_HRS)\n",
        "##Multiply the regular rate of pay by time and a half (1.5) to get the overtime rate.\n",
        "##Multiply the overtime rate by the amount of overtime hours worked."
      ],
      "metadata": {
        "id": "JDPBJN2jvhpc"
      },
      "execution_count": null,
      "outputs": []
    },
    {
      "cell_type": "code",
      "source": [
        "raw_hours = input(\"Enter num of hours worked\")\n",
        "h = float(raw_hours)\n",
        "rate= (\"Enter your pay_rate\")\n",
        "if h <= 20 :\n",
        "  pay = h*rate\n",
        "elif h > 20:\n",
        "  pay = ((h-40)*rate*1.5)+rate*20\n",
        "  print(\"Your pay is %d\" %pay)"
      ],
      "metadata": {
        "id": "Pq8q0Val89s7"
      },
      "execution_count": null,
      "outputs": []
    },
    {
      "cell_type": "markdown",
      "source": [
        "Write a function named times_ten. The function should accept an argument and display the product of its argument multiplied times 10."
      ],
      "metadata": {
        "id": "ElIzQB5mAzVE"
      }
    },
    {
      "cell_type": "code",
      "source": [
        "def ten_ten(n):\n",
        "\n",
        "  product = n * 10\n",
        "  return product\n",
        "ten_ten(10)"
      ],
      "metadata": {
        "colab": {
          "base_uri": "https://localhost:8080/"
        },
        "id": "F9hLFLliA1X0",
        "outputId": "c770f45a-3fe2-4db9-c40d-6f7b682e3800"
      },
      "execution_count": 12,
      "outputs": [
        {
          "output_type": "execute_result",
          "data": {
            "text/plain": [
              "100"
            ]
          },
          "metadata": {},
          "execution_count": 12
        }
      ]
    },
    {
      "cell_type": "markdown",
      "source": [
        "Q4: Find the errors, debug the program, and then execute to show the output.\n",
        "\n",
        "def main()\n",
        "      Calories1 = input( \"How many calories are in the first food?\")\n",
        "      Calories2 = input( \"How many calories are in the first food?\")\n",
        "      showCalories(calories1, calories2)\n",
        "\n",
        "def showCalories()   \n",
        "   print(“The total calories you ate today”, format(calories1 + calories2,.2f))\n"
      ],
      "metadata": {
        "id": "_K10ZbzLBpMi"
      }
    },
    {
      "cell_type": "code",
      "source": [
        "def main():\n",
        "      calories1 = float(input( \"How many calories are in the first food?\"))\n",
        "      calories2 = float(input( \"How many calories are in the first food?\"))\n",
        "      showCalories(calories1, calories2)\n",
        "      return(calories1,calories2)\n",
        "\n",
        "def showCalories(calories1,calories2):\n",
        "   print(\"The total calories you ate today\",format(calories1 + calories2))\n",
        "\n",
        "\n",
        "\n",
        "\n",
        "main()\n"
      ],
      "metadata": {
        "colab": {
          "base_uri": "https://localhost:8080/"
        },
        "id": "cBOscgePBqJm",
        "outputId": "e36d0d60-3637-4435-9aa2-eee00cf7eaf3"
      },
      "execution_count": 2,
      "outputs": [
        {
          "output_type": "stream",
          "name": "stdout",
          "text": [
            "How many calories are in the first food?89\n",
            "How many calories are in the first food?67\n",
            "The total calories you ate today 156.0\n"
          ]
        },
        {
          "output_type": "execute_result",
          "data": {
            "text/plain": [
              "(89.0, 67.0)"
            ]
          },
          "metadata": {},
          "execution_count": 2
        }
      ]
    },
    {
      "cell_type": "markdown",
      "source": [
        "Q5: Write a program that uses any loop (while or for) that calculates the total of the following series of numbers:\n",
        "         1/30 + 2/29 + 3/28 ............. + 30/1\n"
      ],
      "metadata": {
        "id": "qVcT3G0-v9CI"
      }
    },
    {
      "cell_type": "code",
      "source": [
        "def fractionseqn(min,max):\n",
        "  summation = 0\n",
        "  for x in range(min,max+1):\n",
        "    summation += (x)/(max-(x-1))\n",
        "\n",
        "  return summation\n",
        "\n",
        "min = 1\n",
        "max = 30\n",
        "\n",
        "summation = fractionseqn(min,max)\n",
        "print(summation)\n",
        "\n",
        "print(summation)\n",
        "\n",
        "print(round(summation,2))"
      ],
      "metadata": {
        "id": "Hae8W-uFwF0U",
        "outputId": "0be54b3c-dc29-4f9a-b9b3-0b1723201d32",
        "colab": {
          "base_uri": "https://localhost:8080/"
        }
      },
      "execution_count": 4,
      "outputs": [
        {
          "output_type": "stream",
          "name": "stdout",
          "text": [
            "93.84460105853213\n",
            "93.84460105853213\n",
            "93.84\n"
          ]
        }
      ]
    },
    {
      "cell_type": "markdown",
      "source": [
        "Write a function that computes the area of a triangle given its base and height.\n",
        "The formula for an area of a triangle is:\n",
        "AREA = 1/2 * BASE * HEIGHT\n"
      ],
      "metadata": {
        "id": "CGRGowTGxvKZ"
      }
    },
    {
      "cell_type": "code",
      "source": [
        "def AreaofTri(base,height):\n",
        "  base = float(input(\"Input base value\"))\n",
        "  height = float(input(\"Input height value\"))\n",
        "  Area = (base * height)/2\n",
        "  print(\"The area of the Triangle is \", Area)\n",
        "  return(height)\n",
        "\n",
        "AreaofTri(4,4)\n"
      ],
      "metadata": {
        "id": "dWCmNgUbxxAd",
        "outputId": "02094816-1872-431e-ce8a-52a9deec2673",
        "colab": {
          "base_uri": "https://localhost:8080/"
        }
      },
      "execution_count": 9,
      "outputs": [
        {
          "output_type": "stream",
          "name": "stdout",
          "text": [
            "Input base value4\n",
            "Input height value4\n",
            "The area of the Triangle is  8.0\n"
          ]
        },
        {
          "output_type": "execute_result",
          "data": {
            "text/plain": [
              "4.0"
            ]
          },
          "metadata": {},
          "execution_count": 9
        }
      ]
    }
  ]
}