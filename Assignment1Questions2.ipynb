{
  "nbformat": 4,
  "nbformat_minor": 0,
  "metadata": {
    "colab": {
      "provenance": [],
      "authorship_tag": "ABX9TyOOXiiWrjJlSlLjR5gOpZOi",
      "include_colab_link": true
    },
    "kernelspec": {
      "name": "python3",
      "display_name": "Python 3"
    },
    "language_info": {
      "name": "python"
    }
  },
  "cells": [
    {
      "cell_type": "markdown",
      "metadata": {
        "id": "view-in-github",
        "colab_type": "text"
      },
      "source": [
        "<a href=\"https://colab.research.google.com/github/Zee-Mo/Data_602/blob/main/Assignment1Questions2.ipynb\" target=\"_parent\"><img src=\"https://colab.research.google.com/assets/colab-badge.svg\" alt=\"Open In Colab\"/></a>"
      ]
    },
    {
      "cell_type": "code",
      "execution_count": 1,
      "metadata": {
        "colab": {
          "base_uri": "https://localhost:8080/"
        },
        "id": "hkP0ds4T9a8m",
        "outputId": "427be783-5f8e-4f88-9626-f32bc635279b"
      },
      "outputs": [
        {
          "output_type": "stream",
          "name": "stdout",
          "text": [
            "Enter length for triangle #1: 4\n",
            "Enter width for triangle #1: 6\n",
            "Enter length for triangle #2: 7\n",
            "Enter width for triangle #2: 8\n",
            "Area of the first rectangle is 24.0  and the area of the second rectangle 56.0\n"
          ]
        }
      ],
      "source": [
        "length_1 = float(input('Enter length for triangle #1: '))\n",
        "width_1 = float(input('Enter width for triangle #1: '))\n",
        "\n",
        "area_1 = length_1 * width_1\n",
        "\n",
        "length_2 = float(input('Enter length for triangle #2: '))\n",
        "width_2 = float(input('Enter width for triangle #2: '))\n",
        "\n",
        "area_2 = length_2 * width_2\n",
        "\n",
        "print('Area of the first rectangle is',area_1,' and the area of the second rectangle', area_2)\n",
        "\n"
      ]
    }
  ]
}